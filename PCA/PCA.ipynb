{
  "nbformat": 4,
  "nbformat_minor": 0,
  "metadata": {
    "colab": {
      "provenance": []
    },
    "kernelspec": {
      "name": "python3",
      "display_name": "Python 3"
    },
    "language_info": {
      "name": "python"
    }
  },
  "cells": [
    {
      "cell_type": "markdown",
      "source": [
        "# **Thuật toán PCA**"
      ],
      "metadata": {
        "id": "0g-u4_PFz4R4"
      }
    },
    {
      "cell_type": "markdown",
      "source": [
        "Tổ chức thành function với đầu vào là\n",
        "\n",
        "1.   data: dữ liệu muốn giảm chiều\n",
        "2.   k: số chiều muốn giảm (kiểm tra đảm bảo nhỏ hơn số chiều data)\n",
        "\n",
        "Note: PCA không áp dụng cho feature có giá trị rời rạc\n",
        "\n",
        "**Làm không sử dụng AI tool trước nhé!**"
      ],
      "metadata": {
        "id": "T9-9Cg8K0Adn"
      }
    },
    {
      "cell_type": "code",
      "source": [
        "# Sử dụng các thư viện sau\n",
        "import numpy as np\n",
        "import matplotlib.pyplot as plt\n",
        "import seaborn as sns\n",
        "import cv2 as cv"
      ],
      "metadata": {
        "id": "SPQ0MBx90Y_e"
      },
      "execution_count": null,
      "outputs": []
    },
    {
      "cell_type": "code",
      "source": [
        "!wget https://archive.org/download/dimensionaity_reduction/dimensionaity_reduction.csv"
      ],
      "metadata": {
        "colab": {
          "base_uri": "https://localhost:8080/"
        },
        "id": "7-dxgUJ9HYoS",
        "outputId": "98c0abcd-4947-46d0-b150-250b894d5901"
      },
      "execution_count": null,
      "outputs": [
        {
          "output_type": "stream",
          "name": "stdout",
          "text": [
            "--2024-04-01 14:45:40--  https://archive.org/download/dimensionaity_reduction/dimensionaity_reduction.csv\n",
            "Resolving archive.org (archive.org)... 207.241.224.2\n",
            "Connecting to archive.org (archive.org)|207.241.224.2|:443... connected.\n",
            "HTTP request sent, awaiting response... 302 Found\n",
            "Location: https://ia801206.us.archive.org/8/items/dimensionaity_reduction/dimensionaity_reduction.csv [following]\n",
            "--2024-04-01 14:45:40--  https://ia801206.us.archive.org/8/items/dimensionaity_reduction/dimensionaity_reduction.csv\n",
            "Resolving ia801206.us.archive.org (ia801206.us.archive.org)... 207.241.228.26\n",
            "Connecting to ia801206.us.archive.org (ia801206.us.archive.org)|207.241.228.26|:443... connected.\n",
            "HTTP request sent, awaiting response... 200 OK\n",
            "Length: 649 [text/csv]\n",
            "Saving to: ‘dimensionaity_reduction.csv.1’\n",
            "\n",
            "dimensionaity_reduc 100%[===================>]     649  --.-KB/s    in 0s      \n",
            "\n",
            "2024-04-01 14:45:40 (255 MB/s) - ‘dimensionaity_reduction.csv.1’ saved [649/649]\n",
            "\n"
          ]
        }
      ]
    },
    {
      "cell_type": "code",
      "source": [
        "# visualize data ban đầu\n"
      ],
      "metadata": {
        "id": "nXLQcOrq0Pu_"
      },
      "execution_count": null,
      "outputs": []
    },
    {
      "cell_type": "code",
      "source": [
        "def PCA(data, k):\n",
        "  '''Thực hiện từng bước trong PCA produre'''\n",
        "  # tính mean từng feature\n",
        "\n",
        "  # Thực hiện chuẩn hóa bằng cách data - mean\n",
        "\n",
        "  # Tính ma trận hiệp phương sai\n",
        "\n",
        "  # Tính các giá trị riêng và vector riêng\n",
        "\n",
        "  # Sắp xếp các giá trị riêng và vector riêng theo thứ tự giảm dần của vector riêng\n",
        "\n",
        "  # Giữ lại k thành phần chính (k là số chiều mới)\n",
        "\n",
        "  # Chiếu dữ liệu ban đầu vào không gian mới"
      ],
      "metadata": {
        "id": "yDA6Gd59z4B_"
      },
      "execution_count": null,
      "outputs": []
    },
    {
      "cell_type": "code",
      "source": [
        "# visualize sau khi giảm chiều\n"
      ],
      "metadata": {
        "id": "syyNvkSPHRmB"
      },
      "execution_count": null,
      "outputs": []
    },
    {
      "cell_type": "markdown",
      "source": [
        "# **PCA với Table Data**\n"
      ],
      "metadata": {
        "id": "lpfsAHc7yAsW"
      }
    },
    {
      "cell_type": "markdown",
      "source": [
        "Dự đoán giá nhà"
      ],
      "metadata": {
        "id": "iz3I_arRHxcf"
      }
    },
    {
      "cell_type": "code",
      "execution_count": null,
      "metadata": {
        "colab": {
          "base_uri": "https://localhost:8080/"
        },
        "id": "KrlmaksSx-kX",
        "outputId": "d5520427-b5a7-4a87-902c-f6b8a231f251"
      },
      "outputs": [
        {
          "output_type": "stream",
          "name": "stdout",
          "text": [
            "--2024-04-01 14:41:40--  https://raw.githubusercontent.com/Vinayak409/Real-estate-price-prediction/master/Real%20estate.csv\n",
            "Resolving raw.githubusercontent.com (raw.githubusercontent.com)... 185.199.108.133, 185.199.109.133, 185.199.110.133, ...\n",
            "Connecting to raw.githubusercontent.com (raw.githubusercontent.com)|185.199.108.133|:443... connected.\n",
            "HTTP request sent, awaiting response... 200 OK\n",
            "Length: 21553 (21K) [text/plain]\n",
            "Saving to: ‘Real estate.csv.2’\n",
            "\n",
            "\rReal estate.csv.2     0%[                    ]       0  --.-KB/s               \rReal estate.csv.2   100%[===================>]  21.05K  --.-KB/s    in 0s      \n",
            "\n",
            "2024-04-01 14:41:40 (41.5 MB/s) - ‘Real estate.csv.2’ saved [21553/21553]\n",
            "\n"
          ]
        }
      ],
      "source": [
        "!wget https://raw.githubusercontent.com/Vinayak409/Real-estate-price-prediction/master/Real%20estate.csv"
      ]
    },
    {
      "cell_type": "code",
      "source": [
        "# visualize data ban đầu 3D\n"
      ],
      "metadata": {
        "id": "UPolHNZG3wo9"
      },
      "execution_count": null,
      "outputs": []
    },
    {
      "cell_type": "code",
      "source": [
        "# sử dụng thuật toán PCA ở trên để giảm chiều dữ liệu\n"
      ],
      "metadata": {
        "id": "Lzbxcn8k3ngc"
      },
      "execution_count": null,
      "outputs": []
    },
    {
      "cell_type": "code",
      "source": [
        "# visualize data sau khi giảm chiều\n"
      ],
      "metadata": {
        "id": "BaqhiE4_32fJ"
      },
      "execution_count": null,
      "outputs": []
    },
    {
      "cell_type": "markdown",
      "source": [
        "# **PCA với model Machine Learning**\n",
        "\n"
      ],
      "metadata": {
        "id": "nhvoKiiS19b8"
      }
    },
    {
      "cell_type": "markdown",
      "source": [
        "Yêu cầu:\n",
        "- Tính nghiệm của data ban đầu bằng Linear Regression\n",
        "- Tính nghiệm của data sau khi giảm chiều bằng Linear Regression\n",
        "- Tính thời gian thực hiện và cost mỗi data\n",
        "\n",
        "Note: time.time() để lấy thời gian hiện tại"
      ],
      "metadata": {
        "id": "o9VII_0C9HIl"
      }
    },
    {
      "cell_type": "code",
      "source": [
        "import time\n",
        "from sklearn.metrics import mean_squared_error\n",
        "from sklearn.linear_model import LinearRegression\n",
        "from sklearn.metrics import r2_score"
      ],
      "metadata": {
        "id": "nuVVhvUs9pZq"
      },
      "execution_count": null,
      "outputs": []
    },
    {
      "cell_type": "code",
      "source": [
        "# data ban đầu\n"
      ],
      "metadata": {
        "id": "Acyi5SpZ5i2p"
      },
      "execution_count": null,
      "outputs": []
    },
    {
      "cell_type": "code",
      "source": [
        "# data sau\n"
      ],
      "metadata": {
        "id": "yy5CWx059FkV"
      },
      "execution_count": null,
      "outputs": []
    }
  ]
}