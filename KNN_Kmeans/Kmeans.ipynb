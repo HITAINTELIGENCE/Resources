{
  "nbformat": 4,
  "nbformat_minor": 0,
  "metadata": {
    "colab": {
      "provenance": []
    },
    "kernelspec": {
      "name": "python3",
      "display_name": "Python 3"
    },
    "language_info": {
      "name": "python"
    }
  },
  "cells": [
    {
      "cell_type": "markdown",
      "source": [
        "# Thuật toán K-means"
      ],
      "metadata": {
        "id": "pEaq26ViwKXP"
      }
    },
    {
      "cell_type": "code",
      "execution_count": null,
      "metadata": {
        "id": "50CDMIx2wJXX"
      },
      "outputs": [],
      "source": [
        "class MyKmeans:\n",
        "  def __init__(self, k, data, max_iter):\n",
        "    ...\n",
        "\n",
        "  def fit(self, ):"
      ]
    },
    {
      "cell_type": "markdown",
      "source": [
        "# Thực nghiệm và so sánh\n",
        "[Dataset](https://www.kaggle.com/code/heeraldedhia/kmeans-clustering-for-customer-data/input)"
      ],
      "metadata": {
        "id": "_Bi-mj2J4mOg"
      }
    },
    {
      "cell_type": "code",
      "source": [
        "## thực nghiệm với MyKmeans"
      ],
      "metadata": {
        "id": "wiBqr6Su4pKh"
      },
      "execution_count": null,
      "outputs": []
    },
    {
      "cell_type": "code",
      "source": [
        "## tìm hiểu và thực hành với sklearn"
      ],
      "metadata": {
        "id": "RHiXLs_W5Ylm"
      },
      "execution_count": null,
      "outputs": []
    }
  ]
}