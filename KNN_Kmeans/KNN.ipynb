{
  "nbformat": 4,
  "nbformat_minor": 0,
  "metadata": {
    "colab": {
      "provenance": []
    },
    "kernelspec": {
      "name": "python3",
      "display_name": "Python 3"
    },
    "language_info": {
      "name": "python"
    }
  },
  "cells": [
    {
      "cell_type": "markdown",
      "source": [
        "# Thuật toán KNN"
      ],
      "metadata": {
        "id": "cd_eSR_FN_B4"
      }
    },
    {
      "cell_type": "code",
      "execution_count": null,
      "metadata": {
        "id": "BVl4pBnFN8UE"
      },
      "outputs": [],
      "source": [
        "class MyKNN:\n",
        "  def __init__(self, k, x_train, y_train, weight=None, type='classification'):\n",
        "    '''weight: sử dụng trọng số hay không nếu có thì sử dụng nghịch đảo hay exp(-)\n",
        "       type: bài toán classification hay regression\n",
        "    '''\n",
        "    ...\n",
        "\n",
        "  def predict(self, x):\n",
        "    '''Preidct y with 1 data point'''\n",
        "    ...\n",
        "\n",
        "  def valid(self, x_set, y_set):\n",
        "    '''Compute accuracy with valid dataset for classification\n",
        "          Accuracy = Sum(True Predict) / Len(dataset)\n",
        "       Compute cost with valid dataset for regression\n",
        "    '''\n",
        "    ..."
      ]
    },
    {
      "cell_type": "markdown",
      "source": [
        "# Thực nghiệm so sánh"
      ],
      "metadata": {
        "id": "6DXOeCkxQ7RF"
      }
    },
    {
      "cell_type": "code",
      "source": [
        "import numpy as np\n",
        "import matplotlib.pyplot as plt\n",
        "from sklearn import datasets\n",
        "from sklearn.model_selection import train_test_split"
      ],
      "metadata": {
        "id": "29XiJUI70uC0"
      },
      "execution_count": null,
      "outputs": []
    },
    {
      "cell_type": "markdown",
      "source": [
        "## Classifier"
      ],
      "metadata": {
        "id": "CqPXSbTnzoku"
      }
    },
    {
      "cell_type": "code",
      "source": [
        "iris = datasets.load_iris()\n",
        "iris_X = iris.data\n",
        "iris_y = iris.target\n",
        "\n",
        "\n",
        "X_train, X_test, y_train, y_test = train_test_split(iris_X, iris_y, test_size=50)\n",
        "X_train.shape, X_test.shape"
      ],
      "metadata": {
        "id": "LzmifLMj01L6"
      },
      "execution_count": null,
      "outputs": []
    },
    {
      "cell_type": "code",
      "source": [
        "# thực hiện trên MyKNN\n",
        "\n"
      ],
      "metadata": {
        "id": "iwn7c8i20bOg"
      },
      "execution_count": null,
      "outputs": []
    },
    {
      "cell_type": "code",
      "source": [
        "# tìm hiểu thực hiện trên sklearn\n",
        "\n"
      ],
      "metadata": {
        "id": "zzDQckWr0fXZ"
      },
      "execution_count": null,
      "outputs": []
    },
    {
      "cell_type": "markdown",
      "source": [
        "## Regressor"
      ],
      "metadata": {
        "id": "ipICDsg808tz"
      }
    },
    {
      "cell_type": "code",
      "source": [
        "!wget https://github.com/mwaskom/seaborn-data/raw/master/tips.csv"
      ],
      "metadata": {
        "colab": {
          "base_uri": "https://localhost:8080/"
        },
        "id": "3LAHWqcB1F6M",
        "outputId": "795c770e-af48-477b-9a37-249c09dd5706"
      },
      "execution_count": null,
      "outputs": [
        {
          "output_type": "stream",
          "name": "stdout",
          "text": [
            "--2024-04-28 17:57:35--  https://github.com/mwaskom/seaborn-data/raw/master/tips.csv\n",
            "Resolving github.com (github.com)... 140.82.116.3\n",
            "Connecting to github.com (github.com)|140.82.116.3|:443... connected.\n",
            "HTTP request sent, awaiting response... 302 Found\n",
            "Location: https://raw.githubusercontent.com/mwaskom/seaborn-data/master/tips.csv [following]\n",
            "--2024-04-28 17:57:35--  https://raw.githubusercontent.com/mwaskom/seaborn-data/master/tips.csv\n",
            "Resolving raw.githubusercontent.com (raw.githubusercontent.com)... 185.199.108.133, 185.199.109.133, 185.199.110.133, ...\n",
            "Connecting to raw.githubusercontent.com (raw.githubusercontent.com)|185.199.108.133|:443... connected.\n",
            "HTTP request sent, awaiting response... 200 OK\n",
            "Length: 9729 (9.5K) [text/plain]\n",
            "Saving to: ‘tips.csv.1’\n",
            "\n",
            "tips.csv.1          100%[===================>]   9.50K  --.-KB/s    in 0s      \n",
            "\n",
            "2024-04-28 17:57:36 (74.2 MB/s) - ‘tips.csv.1’ saved [9729/9729]\n",
            "\n"
          ]
        }
      ]
    },
    {
      "cell_type": "code",
      "source": [
        "## thực hiện với MyKNN"
      ],
      "metadata": {
        "id": "Lmyy328y2fe_"
      },
      "execution_count": null,
      "outputs": []
    },
    {
      "cell_type": "code",
      "source": [
        "## tìm hiểu thực hiện với sklearn"
      ],
      "metadata": {
        "id": "0iLz_qrb3GJ1"
      },
      "execution_count": null,
      "outputs": []
    }
  ]
}