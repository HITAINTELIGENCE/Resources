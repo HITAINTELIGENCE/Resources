{
  "nbformat": 4,
  "nbformat_minor": 0,
  "metadata": {
    "colab": {
      "provenance": []
    },
    "kernelspec": {
      "name": "python3",
      "display_name": "Python 3"
    },
    "language_info": {
      "name": "python"
    }
  },
  "cells": [
    {
      "cell_type": "markdown",
      "source": [
        "# **1. Code chay thuật toán Perceptron**\n",
        "\n",
        "Yêu cầu:\n",
        "- Xử lý cả trường hợp dữ liệu không phân tách tuyến tính (non-linear separable data) bằng [Pocket Algorithm](https://machinelearningcoban.com/2017/01/21/perceptron/#:~:text=Algorithm%20d%C6%B0%E1%BB%9Bi%20%C4%91%C3%A2y%3A-,Pocket%20Algorithm,-M%E1%BB%99t%20c%C3%A1ch%20t%E1%BB%B1)"
      ],
      "metadata": {
        "id": "cNHpuFcBml2z"
      }
    },
    {
      "cell_type": "code",
      "execution_count": null,
      "metadata": {
        "id": "XEDNQmDol9ZM"
      },
      "outputs": [],
      "source": [
        "import numpy as np\n",
        "\n",
        "\n",
        "class MyPerceptron:\n",
        "  def __init__(self, ):\n",
        "    ...\n",
        "\n",
        "  def train(self, x_loader, y_loader):\n",
        "    ...\n",
        "\n",
        "  def test(self, x, y):\n",
        "    ...\n",
        "\n",
        "  def preidct(self, x):\n",
        "    ...\n"
      ]
    },
    {
      "cell_type": "markdown",
      "source": [
        "# **2. Thực nghiệm và so sánh**\n",
        "[Dataset](https://www.kaggle.com/datasets/prishasawhney/mushroom-dataset/data)\n",
        "\n",
        "Yêu cầu:\n",
        "- Sử dụng Perceptron class đã khởi tạo và so sánh với sklearn model\n",
        "- Visualize data với 2 feature được chọn"
      ],
      "metadata": {
        "id": "I-AnK4f5puhI"
      }
    },
    {
      "cell_type": "code",
      "source": [
        "import pandas as pd\n",
        "\n",
        "X_train, y_train =\n",
        "X_test, y_test =\n",
        "# Sử dụng MyPerceptron\n",
        "\n",
        "\n"
      ],
      "metadata": {
        "id": "ddFoqLq3p-hv"
      },
      "execution_count": null,
      "outputs": []
    },
    {
      "cell_type": "code",
      "source": [
        "# visualize với MyPerceptron\n"
      ],
      "metadata": {
        "id": "vFG2Wi2gr46Z"
      },
      "execution_count": null,
      "outputs": []
    },
    {
      "cell_type": "code",
      "source": [
        "from sklearn.linear_model import Perceptron\n",
        "# sử dụng với sklearn model\n",
        "\n",
        "\n",
        "clf = Perceptron(tol=1e-3, random_state=0)\n",
        "clf.fit(X_train, y_train)\n",
        "w = cls.coef_init\n",
        "b = cls.intercept_init"
      ],
      "metadata": {
        "id": "KSMN0eZrsHLw"
      },
      "execution_count": null,
      "outputs": []
    },
    {
      "cell_type": "code",
      "source": [
        "# visualize sklearn model\n"
      ],
      "metadata": {
        "id": "6IufoPDcs2KQ"
      },
      "execution_count": null,
      "outputs": []
    }
  ]
}